{
 "cells": [
  {
   "cell_type": "code",
   "execution_count": 60,
   "id": "0f94b84e-ac64-4189-b9e7-f2b74479307f",
   "metadata": {},
   "outputs": [],
   "source": [
    "from selenium import webdriver\n",
    "from selenium.webdriver.common.by import By\n",
    "from selenium.webdriver.common.keys import Keys\n",
    "from selenium.webdriver.chrome.service import Service as ChromeService\n",
    "from selenium.webdriver.common.action_chains import ActionChains\n",
    "from bs4 import BeautifulSoup\n",
    "import time\n",
    "import numpy as np\n",
    "from fake_useragent import UserAgent\n",
    "\n",
    "# Create a user agent and generate header information\n",
    "ua = UserAgent()\n",
    "headers = {'User-Agent': ua.random}\n",
    "\n",
    "# Target website\n",
    "url = 'https://www.imdb.com/search/title/?groups=top_1000&ref_=adv_prv'\n",
    "\n",
    "# ChromeDriver\n",
    "chrome_path = \"C:/Windows/chromedriver.exe\"\n",
    "\n",
    "# Selenium ChromeDriver setting\n",
    "chrome_service = ChromeService(chrome_path)\n",
    "driver = webdriver.Chrome(service=chrome_service)\n",
    "\n",
    "# Open browser\n",
    "driver.get(url)"
   ]
  },
  {
   "cell_type": "code",
   "execution_count": 61,
   "id": "7a87d27a-183e-4224-a8e6-455177ab0615",
   "metadata": {},
   "outputs": [
    {
     "name": "stdout",
     "output_type": "stream",
     "text": [
      "The 'See More' button is no longer available.\n"
     ]
    },
    {
     "name": "stderr",
     "output_type": "stream",
     "text": [
      "IOPub data rate exceeded.\n",
      "The Jupyter server will temporarily stop sending output\n",
      "to the client in order to avoid crashing it.\n",
      "To change this limit, set the config variable\n",
      "`--ServerApp.iopub_data_rate_limit`.\n",
      "\n",
      "Current values:\n",
      "ServerApp.iopub_data_rate_limit=1000000.0 (bytes/sec)\n",
      "ServerApp.rate_limit_window=3.0 (secs)\n",
      "\n"
     ]
    }
   ],
   "source": [
    "from selenium.common.exceptions import NoSuchElementException\n",
    "\n",
    "# Repeat until the \"See More\" button is no longer available\n",
    "while True:\n",
    "    try:\n",
    "        # Find the \"See More\" button using XPath\n",
    "        more_button = driver.find_element(By.XPATH, \"//button[@class='ipc-btn ipc-btn--single-padding ipc-btn--center-align-content ipc-btn--default-height ipc-btn--core-base ipc-btn--theme-base ipc-btn--on-accent2 ipc-text-button ipc-see-more__button']\")\n",
    "        \n",
    "        # Click the \"See More\" button using JavaScript\n",
    "        driver.execute_script(\"arguments[0].click();\", more_button)\n",
    "        \n",
    "        # Wait for loading (adjust sleep time based on the page)\n",
    "        time.sleep(2)\n",
    "    except NoSuchElementException:\n",
    "        print(\"The 'See More' button is no longer available.\")\n",
    "        break\n",
    "\n",
    "# Get the page source using Selenium\n",
    "page_source = driver.page_source\n",
    "\n",
    "# Parse the page source using BeautifulSoup\n",
    "soup = BeautifulSoup(page_source, \"html.parser\")\n",
    "\n",
    "# Print the prettified HTML content for a structured tree-like view\n",
    "print(soup.prettify())"
   ]
  },
  {
   "cell_type": "code",
   "execution_count": 62,
   "id": "22b91d97-d6ca-48a2-a7e4-a95be5fc7453",
   "metadata": {},
   "outputs": [],
   "source": [
    "# Find all <div> tags in the HTML document with a specific class name and store them in the movie_div variable\n",
    "movie_div = soup.find_all('div', class_='ipc-metadata-list-summary-item__tc')"
   ]
  },
  {
   "cell_type": "code",
   "execution_count": 63,
   "id": "86a7209a-27a0-4658-9d64-1e7ad97404ff",
   "metadata": {},
   "outputs": [
    {
     "name": "stdout",
     "output_type": "stream",
     "text": [
      "['可怜的东西', 'Killers of the Flower Moon', 'La sociedad de la nieve', 'Oppenheimer', 'The Holdovers', '12th Fail', \"Anatomie d'une chute\", 'Godzilla -1.0', 'Past Lives', '듄', 'Once Upon a Time..', '더 배트맨', '탑건: 매버릭', 'Spider-Man: Across the Spider-Verse', '인터스텔라', '쇼생크 탈출', 'Mission: Impossible - Dead Reckoning Part One', '에브리씽 에브리웨어 올 앳 원스', 'Daeboo', '젠틀맨', 'John Wick: Chapter 4', '해리포터와 마법사의 돌', '글래디에이터', '더 울프 오브 월 스트리트', '다크 나이트', '반지의 제왕: 반지 원정대', 'Gisaengchung', '뻐꾸기 둥지 위로 날아간 새', '펄프 픽션', '더 밴시즈 오브 이니셔린', '인셉션', '파고', '타이타닉', '파이트 클럽', 'Guardians of the Galaxy Vol', '매드맥스: 분노의 도로', '스파이더맨: 노 웨이 홈', '히트', '조커', '왓치맨', '위플래쉬', 'Gone Girl', '양들의 침묵', '쉰들러 리스트', '세븐', '오만과 편견', '위대한 레보스키', '라라랜드', 'Willy Wonka', '포레스트 검프', '굿 윌 헌팅', 'Dakeu naiteu raijeu', 'Taxi Driver', 'Jyuragi gongwon', '셔터 아일랜드', '블레이드 러너 2049', 'Mystic River', '프리즈너스', '매트릭스', '레옹', '라이온 킹', '배트맨 비긴즈', '반지의 제왕: 왕의 귀환', '에이리언', '구니스', 'Little Women', '빽 투 더 퓨쳐', '좋은 친구들', '노트북', '바스터즈: 거친 녀석들', '프레스티지', '어벤져스: 엔드게임', '센과 치히로의 행방불명', '아메리칸 뷰티', '레퀴엠', 'Oldeuboi', 'Harry Potter and the Goblet of Fire', '블랙스완', '디파티드', '아메리칸 사이코', 'The Blues Brothers', 'The Color Purple', 'Aliens', 'The Godfather Part II', '나이브스 아웃', '나 홀로 집에', 'Haeri Poteowa jugeumui seongmul - 2bu', '덩케르크', '이터널 선샤인', '장고: 분노의 추적자', 'Stand by Me', '캐리비안의 해적: 블랙펄의 저주', 'Blazing Saddles', '더 웨일', 'Braveheart', 'The Princess Bride', '노인을 위한 나라는 없다', '콜 미 바이 유어 네임', '시카리오: 암살자의 도시', 'Terminator 2: Judgment Day', '호빗: 뜻밖의 여정', '어톤먼트', '그린 북', '애프터선', 'Star Wars', 'Tombstone', '메멘토', '샤이닝', '제5원소', '300', '겟 아웃', 'The Lord of the Rings: The Two Towers', '레이더스', '12명의 성난 사람들', '드래곤 길들이기', 'Harry Potter and the Prisoner of Azkaban', '아바타', 'Donnie Darko', '레버넌트: 죽음에서 돌아온 자', '데드풀', '드라이브', '지옥의 묵시록', 'Lawrence of Arabia', '터미네이터', 'Snatch', 'The Thing', '스파이더맨: 뉴 유니버스', 'Airplane!', '사운드 오브 뮤직', '실버라이닝 플레이북', 'L.A', '데어 윌 비 블러드', '킬 빌', 'Howlui umjikineun seong', '블레이드 러너', '소울', '그린 마일', '시계태엽 오렌지', '더 헌트', 'The Irishman', '헤이트풀8', 'Mississippi Burning', 'Ahgassi', 'Wind River', '라따뚜이', '트루먼 쇼', 'Kingsman: Secret Agent', '수퍼배드', '라이언 일병 구하기', '유주얼 서스펙트', 'Deadpool 2', '가디언즈 오브 갤럭시', '시티 오브 갓', '2001: A Space Odyssey', 'Geu-nyeo', '피아니스트', 'Ford v Ferrari', '엣지 오브 투모로우', '고스트 버스터즈', 'Thor: Ragnarok', 'The Grand Budapest Hotel', 'Dances with Wolves', 'Harry Potter and the Deathly Hallows: Part 1', '핵소 고지', 'The Breakfast Club', '컴 앤 씨', '스카페이스', '멀홀랜드 드라이브', '아메리칸 히스토리 X', 'Office Space', '저수지의 개들', 'Bohemian Rhapsody', 'Into the Wild', '죽은 시인의 사회', 'Metal jaket', '다이 하드', 'Trainspotting', '빅쇼트', '행오버', '어바웃 타임', 'Stardust', '로보캅', '원스 어폰 어 타임 인 아메리카', '마션', '석양의 무법자', 'Hell or High Water', 'Training Day', 'Chinatown', '쓰리 빌보드', '어벤져스: 인피니티 워', 'Arrival', '서부 전선 이상 없다', \"Ferris Bueller's Day Off\", 'The Incredibles', '헬프', 'Warrior', '잭 스나이더의 저스티스 리그', '캐치 미 이프 유 캔', 'Puss in Boots: The Last Wish', '엑소시스트: 디렉터스 컷', 'Finding Nemo', '로그 원: 스타워즈 스토리', 'The Girl with the Dragon Tattoo', '사랑할 땐 누구나 최악이 된다', '아마데우스', 'Children of Men', 'American Gangster', '코다', '1917', '엑스 마키나', '오션스 일레븐', '히든 피겨스', '500 Days of Summer', 'Jutopia', '맨 온 파이어', '아이언맨', 'Almost Famous', 'Indiana Jones and the Last Crusade', '브이 포 벤데타', '어벤져스', 'Casino Royale', 'Platoon', '로건', 'Sin City', '바람과 함께 사라지다', '식스 센스', '카사블랑카', 'Hamilton', '오즈의 마법사', '조디악', 'Star Trek: The Beginning', 'Gajang Ttatteutan Saek, Beullu', 'La vita è bella', 'The Theory of Everything', 'Birdman or (The Unexpected Virtue of Ignorance)', '인사이드 아웃', 'Mononoke-hime', '언터처블: 1%의 우정', '카지노', 'Apocalypto', '부기 나이트', 'Toy Story', '미션 임파서블: 폴아웃', '이미테이션 게임', 'True Romance', 'The Hobbit: The Desolation of Smaug Extended Edition', '조조 래빗', \"What's Eating Gilbert Grape\", '더 파더', 'X-Men: Days of Future Past', 'Room', 'Fantastic Mr', '월-E', 'Star Wars: Episode VII - The Force Awakens', 'Neoui Ileum-eun.', '록키', 'Kill Bill: Vol', 'RRR', '브롱스 이야기', 'Shrek', 'This Is Spinal Tap', 'The Sting', 'In Bruges', '나이트 크롤러', '원스 어폰 어 타임 인 더 웨스트', 'Sosyeol neteuwokeu', '코코', 'Taken', '라스트 모히칸', '12 Years a Slave', 'Little Miss Sunshine', '월플라워', 'Wonder', 'Boyz n the Hood', 'Predator', 'Detachment', 'Salinui chueok', 'Black Hawk Down', '반딧불이의 묘', 'X-Men: First Class', '죠스', '싸이코', 'E.T', '쿵푸팬더', '스타워즈 에피소드 5 - 제국의 역습', 'Mary Poppins', 'Gone Baby Gone', 'Rapunjel', 'The Fugitive', '그을린 사랑', 'Apollo 13', 'Hot Fuzz', 'Manchester by the Sea', 'Star Wars: Episode VI - Return of the Jedi', '세 얼간이', '판의 미로 - 오필리아와 세 개의 열쇠', 'Fried Green Tomatoes', 'Lock, Stock and Two Smoking Barrels', '브로크백 마운틴', '아멜리에', 'A Beautiful Mind', 'Star Wars: Episode III - Revenge of the Sith', 'What Ever Happened to Baby Jane?', 'Rain Man', '스포트라이트', 'Skyfall', '더 게임', '캡틴 아메리카: 시빌 워', '사랑도 통역이 되나요?', 'Monsters, Inc.', '디 아더스', '업', 'Remember the Titans', 'The Deer Hunter', '멋진 인생', '비포 선라이즈', 'In the Heat of the Night', '알라딘', 'Raging Bull', '사랑의 블랙홀', 'The Curious Case of Benjamin Button', 'Saw', 'Dr', 'Blue Velvet', '그래비티', 'Nabi hyogwa', 'The Brave', 'Captain Fantastic', 'Downfall', 'Guardians of the Galaxy Vol', '샤레이드', 'Unforgiven', 'My Cousin Vinny', '머니볼', '12 몽키즈', '타인의 삶', 'The Untouchables', 'The Best Years of Our Lives', '빅 피쉬', 'Barry Lyndon', 'Y tu mamá también', '시민 케인', 'The Conversation', '프라이멀 피어', '어나더 라운드', 'The Boondock Saints', 'Star Trek Into Darkness', 'The Bourne Identity', 'Cast Away', 'What We Do in the Shadows', 'Metropolis', 'The Boy in the Striped Pajamas', 'A Few Good Men', 'District 9', 'Rush', 'Serenity', '킥 애스: 영웅의 탄생', 'Bugbugseolo Jinloleul Dollyeola', 'Tonari no Totoro', 'First Blood', '졸업', '결혼 이야기', 'Blood Diamond', 'Mad Max 2', '캡틴 아메리카: 윈터 솔져', 'The Fighter', 'Shaun of the Dead', 'Edward Scissorhands', 'Sense and Sensibility', 'Midnight in Paris', '이창', 'The Sandlot', '칼리토', 'Argo', '시네마 천국', 'The Count of Monte Cristo', 'Mulan', '여인의 향기', 'The Name of the Rose', 'The Last Samurai', 'Dallas Buyers Club', 'Back to the Future Part II', '그랜 토리노', \"The King's Speech\", '코렐라인: 비밀의 문', 'How to Train Your Dragon 2', 'Beauty and the Beast', 'Minority Report', 'Paris, Texas', '토이 스토리 4', 'Hyeongijeung', 'The Machinist', '사랑은 비를 타고', 'Fa yeung nin wah', '7인의 사무라이', '타오르는 여인의 초상', 'Captain Phillips', '스트레이트 아웃 오브 컴턴', 'Monty Python and the Holy Grail', 'Close', 'Moon', 'Crash', 'Magnolia', '가타카', \"Rosemary's Baby\", '이보다 더 좋을 순 없다', 'Road to Perdition', 'O Brother, Where Art Thou?', 'Slumdog Millionaire', 'Planet of the Apes', '토이 스토리 3', 'Misery', '사운드 오브 메탈', '이스턴 프라미스', 'When Harry Met Sally...', 'Deliverance', 'Young Frankenstein', '인비저블 게스트', 'The Man from Earth', 'End of Watch', 'Ang-ma-reul bo-at-da', 'Big Hero 6', 'The Elephant Man', 'Perfect Blue', 'Die Hard with a Vengeance', 'The Great Escape', 'Network', 'The Maltese Falcon', 'Paddington 2', 'Stalker', 'Mr', '슈퍼배드', '할로윈', 'Midnight Cowboy', 'Wreck-It Ralph', 'The Raid: Redemption', '가버나움', 'The Birds', 'La haine', 'Sunset Blvd.', 'The Pursuit of Happyness', 'The Thin Red Line', 'After Hours', 'Who Framed Roger Rabbit', '3:10 to Yuma', 'The Best Offer', 'Flipped', 'The Blind Side', '밀리언 달러 베이비', 'K.G.F: Chapter 2', 'Wa ho jang ryong', 'La montaña sagrada', 'Walk the Line', 'Some Like It Hot', \"Kiki's Delivery Service\", 'Moonrise Kingdom', 'El Sikeuleto: Bimil-ui Nundongja', 'Goldfinger', 'Life of Pi', 'Seppuku', 'The Boat', 'JFK', 'Do the Right Thing', 'Toy Story 2', 'Lion', 'Dogville', 'Bonnie and Clyde', 'Naked', 'Jujutsu Kaisen 0: The Movie', 'To Kill a Mockingbird', 'Waildeu Teiljeu: Cham-eul Su Eobsneun Sungan', '안녕, 헤이즐', 'Akira', 'The Fly', 'Ppa Ppi Yong', '황야의 7인', 'Boyhood', 'Awakenings', 'Gake no ue no Ponyo', 'Brazil', 'The Lego Movie', 'The Iron Giant', 'Dark Waters', \"Hachi: A Dog's Tale\", 'The Girl with the Dragon Tattoo', 'Togo', 'Dog Day Afternoon', 'Ghost in the Shell', 'The Longest Day', 'Lethal Weapon', 'Tumbbad', 'Before Midnight', 'A Christmas Story', 'The Ten Commandments', 'Paths of Glory', 'Doctor Zhivago', 'High Noon', 'Adaptation.', 'The Royal Tenenbaums', 'Donnie Brasco', '팀버튼의 크리스마스 악몽', 'The Apartment', 'Star Trek II: The Wrath of Khan', 'Butch Cassidy and the Sundance Kid', '서틴 라이브스', 'Hunt for the Wilderpeople', 'The Jungle Book', 'Sita Ramam', '필사의 도전', 'The Bourne Ultimatum', 'Moksoriui hyeongtae', 'Nebraska', 'The Mitchells vs the Machines', 'Kaze tachinu', 'Jodaeiye Nader az Simin', 'Empire of the Sun', '렛 미 인', 'Nosferatu, eine Symphonie des Grauens', \"Miller's Crossing\", 'Per un pugno di dollari', 'For a Few Dollars More', 'Spartacus', 'M - Eine Stadt sucht einen Mörder', 'The Wrestler', 'The Remains of the Day', 'Kaze no tani no Naushika', 'Before Sunset', '트라이얼 오브 더 시카고 7', 'The King of Comedy', 'The French Connection', 'Lucky Number Slevin', 'Isle of Dogs', 'Ben-Hur', 'Malcolm X', 'My Fair Lady', 'Being John Malkovich', 'Eveeui Modeun Gut', '중경삼림', 'Cinderella Man', 'The Bourne Supremacy', 'Shoplifters', '뉘른베르크의 재판', 'Castle in the Sky', 'Ran', 'The Fall', 'The Outlaw Josey Wales', 'Philadelphia', 'Sling Blade', 'This Is England', 'Life of Brian', 'Annie Hall', \"Guess Who's Coming to Dinner\", 'In the Name of the Father', 'Jai Bhim', '클라우스', 'On the Waterfront', 'Glengarry Glen Ross', 'Wings of Desire', '마지막 영화관', 'Gandhi', '지붕 위의 바이올린', 'Cool Hand Luke', 'The Searchers', 'A Streetcar Named Desire', 'Glory', 'Kung fu', 'The Seventh Seal', 'Dirty Harry', 'Dangal', 'The Insider', 'Paprika', 'Solyaris', 'Serpico', 'Rushmore', 'October Sky', '8gwa 1/2', '스푸어루스', '해피니스', 'Dawn of the Dead', 'Clerks', 'Witness for the Prosecution', 'Billy Elliot', 'Roma', 'Vikram', \"The World's Fastest Indian\", 'Searching', 'Bound by Honor', 'A Man Called Ove', 'Changeling', 'Amores perros', 'The African Queen', 'Dancer in the Dark', \"All the President's Men\", 'Rio Bravo', 'The Philadelphia Story', 'Sing Street', 'Yedinci Kogustaki Mucize', 'Bãhubali: The Beginning', 'Breaking the Waves', 'Rebecca', 'The Day of the Jackal', 'Mimi wo sumaseba', 'The Third Man', 'The Wild Bunch', '이키루', '달콤한 인생', 'Ed Wood', 'Ray', 'The Man Who Shot Liberty Valance', 'The Lion in Winter', 'My Left Foot: The Story of Christy Brown', 'The Last Emperor', 'The Night of the Hunter', 'The Bridge on the River Kwai', 'Kramer vs', 'Hotel Rwanda', 'Evil Dead II', 'Pride', 'Days of Heaven', '찬스', 'Neon Genesis Evangelion: The End of Evangelion', 'Ip Man', 'Hamlet', 'Dial M for Murder', 'South Park: Bigger, Longer & Uncut', 'Night of the Living Dead', 'Secrets & Lies', 'Mommy', 'Double Indemnity', 'The Raid 2', 'Belle de jour', 'Ordinary People', '더티 더즌', 'Andhadhun', 'Zulu', 'Finding Neverland', 'Hero', 'Kurenai no buta', 'La grande bellezza', 'The Bridges of Madison County', 'I Am Sam', 'The 400 Blows', 'Rebel Without a Cause', '극장판 귀멸의 칼날: 무한열차편', '어느 날 밤에 생긴 일', 'Patton', 'The Big Sleep', 'King Kong', '라쇼몽', '21 Grams', 'Roman Holiday', 'The Artist', 'Ajeossi', 'The Day the Earth Stood Still', '소서러', 'Persona', '레오파드', 'City Lights', 'Cabaret', '와시푸르의 갱들', '숏컷', 'Notorious', 'Dare mo shiranai', 'Badlands', 'Paper Moon', 'Run Lola Run', 'Kantara', 'Barton Fink', '모던 타임즈', '50/50', 'Fitzcarraldo', 'Pink Floyd: The Wall', 'The Killing', 'Fanny och Alexander', 'The Great Dictator', 'The Killing Fields', 'Short Term 12', '살인자의 해부', 'Like Stars on Earth', 'Touch of Evil', 'Fantasia', 'The Verdict', 'Bicycle Thieves', 'Aguirre, der Zorn Gottes', 'Zwartboek', \"Who's Afraid of Virginia Woolf?\", 'Letters from Iwo Jima', 'Freaks', 'Strangers on a Train', 'The Manchurian Candidate', 'Manhattan', 'PK', 'All That Jazz', 'Zerkalo', 'Mary and Max', 'Kaguya-hime no monogatari', 'Once', 'Frankenstein', 'Harold and Maude', 'Loving Vincent', 'Shershaah', 'Hannah and Her Sisters', 'The Grapes of Wrath', 'The Last King of Scotland', 'Rope', 'Chugyeokja', 'Festen', 'The Hustler', 'His Girl Friday', 'To Be or Not to Be', 'Mou gaan dou', 'Open Your Eyes', '동경 이야기', 'Me and Earl and the Dying Girl', 'Omoide no Marnie', 'Lilja 4-ever', '천국과 지옥', 'The Straight Story', 'Underground', '서부 전선 이상 없다', 'East of Eden', 'The Breadwinner', 'Children of Heaven', 'Madeo', '울프워커스', 'Bin-jip', '고독', 'Waking Life', 'Yôjinbô', 'Three Colors: Blue', 'Stagecoach', 'Smultronstället', '네 멋대로 해라', 'Out of the Past', 'My Name Is Khan', 'Gaslight', 'Perfetti sconosciuti', 'Kubo and the Two Strings', 'Philomena', 'Song of the Sea', 'Amour', 'Beasts of No Nation', 'Ondskan', 'The Treasure of the Sierra Madre', 'Stalag 17', 'A Woman Under the Influence', 'The White Ribbon', 'Once Were Warriors', 'Trois couleurs: Rouge', 'Les parapluies de Cherbourg', 'The Red Shoes', 'Jamsujong gwa nabi', 'Kokuhaku', 'Jûbê ninpûchô', 'The Quiet Man', 'The Shop Around the Corner', 'The Lady Vanishes', 'Bringing Up Baby', 'The Legend of 1900', 'Cowboy Bebop: Tengoku no tobira', 'Inherit the Wind', 'Un prophète', 'Pather Panchali', 'Zindagi Na Milegi Dobara', 'Laura', '777 Charlie', 'Drishyam 2', 'Tropa de Elite', 'Kis Uykusu', 'Le Petit Prince', 'In Cold Blood', 'Todo sobre mi madre', 'Taeksi woonjunsa', 'Batman: Mask of the Phantasm', 'Mildred Pierce', 'Michigo sipeul ttae', 'Cat on a Hot Tin Roof', 'The Conformist', 'Shadow of a Doubt', 'Brief Encounter', 'Under sandet', 'Lat sau san taam', 'Control', 'Engagement', 'Scarface', \"You Can't Take It with You\", 'Swades: We, the People', 'Das Cabinet des Dr', 'Fantastic Planet', '아세닉 앤 올드 레이스', 'The Broken Circle Breakdown', '왕이 되려던 사나이', 'Miracle on 34th Street', '霸王别姬', 'Mr', 'Drishyam', '신체 강탈자의 침입', 'I, Daniel Blake', 'Rocketry: The Nambi Effect', '분노의 카이티', 'Night on Earth', 'Efter brylluppet', 'Hable con ella', '예언자 마호메트', 'Ratsasan', 'Bride of Frankenstein', 'Le salaire de la peur', 'Good Bye Lenin!', 'Yi yi', 'The Adventures of Robin Hood', 'Red River', 'Amarcord', 'Black Narcissus', 'To Have and Have Not', 'Kumonosu-jô', 'Andrey Rublyov', '원스 어폰 어 타임 인 아나톨리아', 'Frost/Nixon', 'Le charme discret de la bourgeoisie', 'Ahlat Agaci', '마티', 'In a Lonely Place', 'K.G.F: Chapter 1', '케이프 피어', 'Sardar Udham', 'La double vie de Véronique', 'Gameui gyuchik', 'Offret', 'A Man for All Seasons', 'Kal Ho Naa Ho', 'The Innocents', 'Diarios de motocicleta', 'The Kid', 'Bajrangi Bhaijaan', 'Okuribito', \"La passion de Jeanne d'Arc\", 'Great Expectations', 'Le cercle rouge', 'Ôkami kodomo no Ame to Yuki', 'Nueve reinas', 'La battaglia di Algeri', 'Mar adentro', 'Dilwale Dulhania Le Jayenge', 'Like Father, Like Son', 'The Thin Man', 'My Man Godfrey', 'Persepolis', 'Wait Until Dark', \"Ta'm e guilass\", 'Hedwig and the Angry Inch', 'Chhichhore', 'Yume', 'Nostalghia', 'The Lunchbox', 'The Magdalene Sisters', '4 luni, 3 saptamâni si 2 zile', 'Harvey', 'Bronenosets Potemkin', 'Crna macka, beli macor', 'Kagemusha', 'Au revoir les enfants', 'The Invisible Man', '발자국', 'Bãhubali 2: The Conclusion', 'Lagaan: Once Upon a Time in India', 'Forooshande', 'A Night at the Opera', '쿠오바디스, 아이다', 'Les triplettes de Belleville', 'Down by Law', 'Dip huet seung hung', 'Munna Bhai M.B.B.S.', 'Kakushi-toride no san-akunin', 'Les choristes', 'The Muppet Christmas Carol', 'Chak De! India', 'Z', 'Adams æbler', 'The Asphalt Jungle', 'Gongdong gyeongbi guyeok JSA', 'Les diaboliques', 'Key Largo', 'The General', 'Tôkyô goddofâzâzu', 'Sweet Smell of Success', 'Talvar', 'Toki o kakeru shôjo', 'Vozvrashchenie', 'The Gold Rush', 'Veer-Zaara', 'Sennen joyû', 'Ivanovo detstvo', 'Viskningar och rop', '데르수 우잘라', 'Bom yeoreum gaeul gyeoul geurigo bom', '96', 'Crimes and Misdemeanors', \"L'avventura\", 'Das Experiment', '카이로의 붉은 장미', 'Sunrise: A Song of Two Humans', 'M.S', 'Ace in the Hole', 'Dil Chahta Hai', 'Jules et Jim', 'The Big Heat', 'A Wednesday', 'Il postino', 'La strada', 'Babam ve Oglum', 'Cléo de 5 à 7', 'How Green Was My Valley', 'Da hong denglong gaogao gua', 'Dom za vesanje', 'Duck Soup', 'Sherlock Jr.', \"Ascenseur pour l'échafaud\", 'La Belle et la Bête', 'Höstsonaten', 'Vivre Sa Vie', 'Rang De Basanti', '어바웃 엘리', 'Du rififi chez les hommes', 'Yeopgijeogin geunyeo', 'Cabiriaeui Baam', 'Hana-bi', 'El ángel exterminador', '걸리 보이', 'Haider', 'Hoje Eu Quero Voltar Sozinho', \"No Man's Land\", 'Hiroshima mon amour', 'Kind Hearts and Coronets', 'In America', 'The Lost Weekend', 'Super 30', 'Mandariinid', 'Soorarai Pottru', 'Article 15', 'G.O.R.A.', 'Love and Death', 'Uri: The Surgical Strike', 'Ma vie de Courgette', 'Jungfrukällan', 'Nefes: Vatan Sagolsun', 'La grande illusion', 'Le passé', '아일라', 'Central do Brasil', 'White Heat', 'Tsubaki Sanjûrô', 'Padman', 'Sholay', 'Baby', 'Jean de Florette', 'Krótki film o milosci', 'Roma città aperta', \"Knockin' on Heaven's Door\", \"Sullivan's Travels\", 'Pink', 'Tropa de Elite 2: O Inimigo Agora é Outro', 'Auf der anderen Seite', 'Hindi Medium', 'Zelig', 'Nattvardsgästerna', 'Såsom i en spegel', 'Viridiana', 'Eskiya', 'Taegukgi hwinalrimyeo', 'C.R.A.Z.Y.', 'Umberto D.', 'Barfi!', 'Rangasthalam', 'Masaan', 'The Circus', 'Drishyam', 'Airlift', 'Bhaag Milkha Bhaag', 'Badhaai ho', 'OMG: Oh My God!', 'Lage Raho Munna Bhai', 'Asuran', 'Jab We Met', '비크람 베다', 'Hera Pheri', 'Kahaani', 'Black', 'Vicky Donor', 'Dev.D', 'Udaan', 'Queen', 'Vizontele', 'Her Sey Çok Güzel Olacak', 'Andaz Apna Apna', 'Drishyam 2', 'English Vinglish', 'Sarfarosh', 'Anand', 'Special Chabbis', 'Paan Singh Tomar']\n"
     ]
    }
   ],
   "source": [
    "# Extract titles (excluding the preceding numbers) and append them to the titles list\n",
    "titles = []\n",
    "for container in movie_div:\n",
    "    name = container.h3.text.split('. ')[1]\n",
    "    titles.append(name)\n",
    "\n",
    "# Print the extracted data\n",
    "print(titles)"
   ]
  },
  {
   "cell_type": "code",
   "execution_count": 64,
   "id": "8c5c9e4b-7545-4367-ab22-63bbdf711125",
   "metadata": {},
   "outputs": [
    {
     "name": "stdout",
     "output_type": "stream",
     "text": [
      "['2023', '2023', '2023', '2023', '2023', '2023', '2023', '2023', '2023', '2021', '2019', '2022', '2022', '2023', '2014', '1994', '2023', '2022', '1972', '2019', '2023', '2001', '2000', '2013', '2008', '2001', '2019', '1975', '1994', '2022', '2010', '1996', '1997', '1999', '2023', '2015', '2021', '1995', '2019', '2009', '2014', '2014', '1991', '1993', '1995', '2005', '1998', '2016', '1971', '1994', '1997', '2012', '1976', '1993', '2010', '2017', '2003', '2013', '1999', '1994', '1994', '2005', '2003', '1979', '1985', '2019', '1985', '1990', '2004', '2009', '2006', '2019', '2001', '1999', '2000', '2003', '2005', '2010', '2006', '2000', '1980', '1985', '1986', '1974', '2019', '1990', '2011', '2017', '2004', '2012', '1986', '2003', '1974', '2022', '1995', '1987', '2007', '2017', '2015', '1991', '2012', '2007', '2018', '2022', '1977', '1993', '2000', '1980', '1997', '2006', '2017', '2002', '1981', '1957', '2010', '2004', '2009', '2001', '2015', '2016', '2011', '1979', '1962', '1984', '2000', '1982', '2018', '1980', '1965', '2012', '1997', '2007', '2003', '2004', '1982', '2020', '1999', '1971', '2012', '2019', '2015', '1988', '2016', '2017', '2007', '1998', '2014', '2007', '1998', '1995', '2018', '2014', '2002', '1968', '2013', '2002', '2019', '2014', '1984', '2017', '2014', '1990', '2010', '2016', '1985', '1985', '1983', '2001', '1998', '1999', '1992', '2018', '2007', '1989', '1987', '1988', '1996', '2015', '2009', '2013', '2007', '1987', '1984', '2015', '1966', '2016', '2001', '1974', '2017', '2018', '2016', '2022', '1986', '2004', '2011', '2011', '2021', '2002', '2022', '1973', '2003', '2016', '2011', '2021', '1984', '2006', '2007', '2021', '2019', '2014', '2001', '2016', '2009', '2016', '2004', '2008', '2000', '1989', '2005', '2012', '2006', '1986', '2017', '2005', '1939', '1999', '1942', '2020', '1939', '2007', '2009', '2013', '1997', '2014', '2014', '2015', '1997', '2011', '1995', '2006', '1997', '1995', '2018', '2014', '1993', '2013', '2019', '1993', '2020', '2014', '2015', '2009', '2008', '2015', '2016', '1976', '2004', '2022', '1993', '2001', '1984', '1973', '2008', '2014', '1968', '2010', '2017', '2008', '1992', '2013', '2006', '2012', '2017', '1991', '1987', '2011', '2003', '2001', '1988', '2011', '1975', '1960', '1982', '2008', '1980', '1964', '2007', '2010', '1993', '2010', '1995', '2007', '2016', '1983', '2009', '2006', '1991', '1998', '2005', '2001', '2001', '2005', '1962', '1988', '2015', '2012', '1997', '2016', '2003', '2001', '2001', '2009', '2000', '1978', '1946', '1995', '1967', '1992', '1980', '1993', '2008', '2004', '1964', '1986', '2013', '2004', '2010', '2016', '2004', '2017', '1963', '1992', '1992', '2011', '1995', '2006', '1987', '1946', '2003', '1975', '2001', '1941', '1974', '1996', '2020', '1999', '2013', '2002', '2000', '2014', '1927', '2008', '1992', '2009', '2013', '2005', '2010', '1959', '1988', '1982', '1967', '2019', '2006', '1981', '2014', '2010', '2004', '1990', '1995', '2011', '1954', '1993', '1993', '2012', '1988', '2002', '1998', '1992', '1986', '2003', '2013', '1989', '2008', '2010', '2009', '2014', '1991', '2002', '1984', '2019', '1958', '2004', '1952', '2000', '1954', '2019', '2013', '2015', '1975', '2022', '2009', '2004', '1999', '1997', '1968', '1997', '2002', '2000', '2008', '1968', '2010', '1990', '2019', '2007', '1989', '1972', '1974', '2016', '2007', '2012', '2010', '2014', '1980', '1997', '1995', '1963', '1976', '1941', '2017', '1979', '2009', '2010', '1978', '1969', '2012', '2011', '2018', '1963', '1995', '1950', '2006', '1998', '1985', '1988', '2007', '2013', '2010', '2009', '2004', '2022', '2000', '1973', '2005', '1959', '1989', '2012', '2009', '1964', '2012', '1962', '1981', '1991', '1989', '1999', '2016', '2003', '1967', '1993', '2021', '1962', '2014', '2014', '1988', '1986', '1973', '1960', '2014', '1990', '2008', '1985', '2014', '1999', '2019', '2009', '2009', '2019', '1975', '1995', '1962', '1987', '2018', '2013', '1983', '1956', '1957', '1965', '1952', '2002', '2001', '1997', '1993', '1960', '1982', '1969', '2022', '2016', '1967', '2022', '1983', '2007', '2016', '2013', '2021', '2013', '2011', '1987', '2008', '1922', '1990', '1964', '1965', '1960', '1931', '2008', '1993', '1984', '2004', '2020', '1982', '1971', '2006', '2018', '1959', '1992', '1964', '1999', '1950', '1994', '2005', '2004', '2018', '1961', '1986', '1985', '2006', '1976', '1993', '1996', '2006', '1979', '1977', '1967', '1993', '2021', '2019', '1954', '1992', '1987', '1971', '1982', '1971', '1967', '1956', '1951', '1989', '2004', '1957', '1971', '2016', '1999', '2006', '1972', '1973', '1998', '1999', '1963', '1988', '1998', '1978', '1994', '1957', '2000', '2018', '2022', '2005', '2018', '1993', '2015', '2008', '2000', '1951', '2000', '1976', '1959', '1940', '2016', '2019', '2015', '1996', '1940', '1973', '1995', '1949', '1969', '1952', '1960', '1994', '2004', '1962', '1968', '1989', '1987', '1955', '1957', '1979', '2004', '1987', '2014', '1978', '1979', '1997', '2008', '1996', '1954', '1999', '1968', '1996', '2014', '1944', '2014', '1967', '1980', '1967', '2018', '1964', '2004', '2002', '1992', '2013', '1995', '2001', '1959', '1955', '2020', '1934', '1970', '1946', '1933', '1950', '2003', '1953', '2011', '2010', '1951', '1977', '1966', '1963', '1931', '1972', '2012', '1993', '1946', '2004', '1973', '1973', '1998', '2022', '1991', '1936', '2011', '1982', '1982', '1956', '1982', '1940', '1984', '2013', '1959', '2007', '1958', '1940', '1982', '1948', '1972', '2006', '1966', '2006', '1932', '1951', '1962', '1979', '2014', '1979', '1975', '2009', '2013', '2007', '1931', '1971', '2017', '2021', '1986', '1940', '2006', '1948', '2008', '1998', '1961', '1940', '1942', '2002', '1997', '1953', '2015', '2014', '2002', '1963', '1999', '1995', '1930', '1955', '2017', '1997', '2009', '2020', '2004', '1967', '2001', '1961', '1993', '1939', '1957', '1960', '1947', '2010', '1944', '2016', '2016', '2013', '2014', '2012', '2015', '2003', '1948', '1953', '1974', '2009', '1994', '1994', '1964', '1948', '2007', '2010', '1993', '1952', '1940', '1938', '1938', '1998', '2001', '1960', '2009', '1955', '2011', '1944', '2022', '2022', '2007', '2014', '2015', '1967', '1999', '2017', '1993', '1945', '2004', '1958', '1970', '1943', '1945', '2015', '1992', '2007', '2004', '1932', '1938', '2004', '1920', '1973', '1944', '2012', '1975', '1947', '1992', '1939', '2015', '1956', '2016', '2022', '2019', '1991', '2006', '2002', '1976', '2018', '1935', '1953', '2003', '2000', '1938', '1948', '1973', '1947', '1944', '1957', '1966', '2011', '2008', '1972', '2018', '1955', '1950', '2018', '1962', '2021', '1991', '1939', '1986', '1966', '2003', '1961', '2004', '1921', '2015', '2008', '1928', '1946', '1970', '2012', '2000', '1966', '2004', '1995', '2013', '1934', '1936', '2007', '1967', '1997', '2001', '2019', '1990', '1983', '2013', '2002', '2007', '1950', '1925', '1998', '1980', '1987', '1933', '1972', '2017', '2001', '2016', '1935', '2020', '2003', '1986', '1989', '2003', '1958', '2004', '1992', '2007', '1969', '2005', '1950', '2000', '1955', '1948', '1926', '2003', '1957', '2015', '2006', '2003', '1925', '2004', '2001', '1962', '1972', '1975', '2003', '2018', '1989', '1960', '2001', '1985', '1927', '2016', '1951', '2001', '1962', '1953', '2008', '1994', '1954', '2005', '1962', '1941', '1991', '1988', '1933', '1924', '1958', '1946', '1978', '1962', '2006', '2009', '1955', '2001', '1957', '1997', '1962', '2019', '2014', '2014', '2001', '1959', '1949', '2002', '1945', '2019', '2013', '2020', '2019', '2004', '1975', '2019', '2016', '1960', '2009', '1937', '2013', '2017', '1998', '1949', '1962', '2018', '1975', '2015', '1986', '1988', '1945', '1997', '1941', '2016', '2010', '2007', '2017', '1983', '1963', '1961', '1961', '1996', '2004', '2005', '1952', '2012', '2018', '2015', '1928', '2013', '2016', '2013', '2018', '2012', '2006', '2019', '2007', '2017', '2000', '2012', '2005', '2012', '2009', '2010', '2013', '2001', '1998', '1994', '2021', '2012', '1999', '1971', '2013', '2012']\n"
     ]
    }
   ],
   "source": [
    "# Extract release year\n",
    "years = []\n",
    "for container in movie_div:\n",
    "    year = container.find('span', class_='sc-1e00898e-8 hsHAHC dli-title-metadata-item').text\n",
    "    years.append(year)\n",
    "    \n",
    "# Print the extracted data\n",
    "print(years)"
   ]
  },
  {
   "cell_type": "code",
   "execution_count": 65,
   "id": "7588e22c-9cd4-4266-bd2a-2e68877e2e6f",
   "metadata": {},
   "outputs": [
    {
     "name": "stdout",
     "output_type": "stream",
     "text": [
      "['8.4', '7.7', '7.9', '8.4', '8.0', '9.2', '7.8', '8.3', '7.9', '8.0', '7.6', '7.8', '8.3', '8.6', '8.7', '9.3', '7.7', '7.8', '9.2', '7.8', '7.7', '7.6', '8.5', '8.2', '9.0', '8.9', '8.5', '8.7', '8.9', '7.7', '8.8', '8.1', '7.9', '8.8', '7.9', '8.1', '8.2', '8.3', '8.4', '7.6', '8.5', '8.1', '8.6', '9.0', '8.6', '7.8', '8.1', '8.0', '7.8', '8.8', '8.3', '8.4', '8.2', '8.2', '8.2', '8.0', '7.9', '8.1', '8.7', '8.5', '8.5', '8.2', '9.0', '8.5', '7.7', '7.8', '8.5', '8.7', '7.8', '8.4', '8.5', '8.4', '8.6', '8.3', '8.3', '8.3', '7.7', '8.0', '8.5', '7.6', '7.9', '7.7', '8.4', '9.0', '7.9', '7.7', '8.1', '7.8', '8.3', '8.5', '8.1', '8.1', '7.7', '7.7', '8.3', '8.0', '8.2', '7.8', '7.7', '8.6', '7.8', '7.8', '8.2', '7.6', '8.6', '7.8', '8.4', '8.4', '7.6', '7.6', '7.8', '8.8', '8.4', '9.0', '8.1', '7.9', '7.9', '8.0', '8.0', '8.0', '7.8', '8.4', '8.3', '8.1', '8.2', '8.2', '8.4', '7.7', '8.1', '7.7', '8.2', '8.2', '8.2', '8.2', '8.1', '8.0', '8.6', '8.3', '8.3', '7.8', '7.8', '7.8', '8.1', '7.7', '8.1', '8.2', '7.7', '7.6', '8.6', '8.5', '7.6', '8.0', '8.6', '8.3', '8.0', '8.5', '8.1', '7.9', '7.8', '7.9', '8.1', '8.0', '7.7', '8.1', '7.8', '8.4', '8.3', '7.9', '8.5', '7.6', '8.3', '7.9', '8.1', '8.1', '8.3', '8.2', '8.1', '7.8', '7.7', '7.8', '7.6', '7.6', '8.3', '8.0', '8.8', '7.6', '7.7', '8.1', '8.1', '8.4', '7.9', '7.8', '7.8', '8.0', '8.1', '8.1', '7.9', '8.1', '7.8', '8.1', '8.2', '7.8', '7.8', '7.7', '8.4', '7.9', '7.8', '8.0', '8.2', '7.7', '7.7', '7.8', '7.7', '8.0', '7.7', '7.9', '7.9', '8.2', '8.2', '8.0', '8.0', '8.1', '8.1', '8.0', '8.2', '8.2', '8.5', '8.3', '8.1', '7.7', '7.9', '7.7', '8.6', '7.7', '7.7', '8.1', '8.3', '8.5', '8.2', '7.8', '7.9', '8.3', '7.7', '8.0', '7.9', '7.8', '7.9', '7.7', '8.2', '7.9', '8.1', '7.9', '8.4', '7.8', '8.4', '8.1', '8.0', '7.8', '7.8', '7.9', '7.9', '8.3', '7.9', '7.8', '8.5', '7.8', '8.4', '7.8', '7.7', '8.1', '7.8', '7.9', '7.9', '7.8', '7.8', '7.7', '8.1', '7.7', '8.5', '7.7', '8.1', '8.5', '7.9', '7.6', '8.7', '7.8', '7.6', '7.7', '7.8', '8.3', '7.7', '7.8', '7.8', '8.3', '8.4', '8.2', '7.7', '8.1', '7.7', '8.3', '8.2', '7.6', '8.0', '8.0', '8.1', '7.8', '7.7', '7.8', '7.7', '8.1', '7.6', '8.3', '7.8', '8.1', '8.6', '8.1', '7.9', '8.0', '8.1', '8.0', '7.8', '7.6', '8.4', '7.7', '7.7', '7.6', '7.6', '7.8', '8.2', '7.6', '7.8', '8.2', '7.6', '7.6', '8.0', '8.4', '7.8', '8.1', '8.0', '8.1', '7.7', '8.3', '7.8', '7.7', '7.7', '7.7', '7.7', '7.8', '7.8', '7.6', '8.3', '7.7', '7.7', '7.9', '8.1', '7.8', '7.6', '8.3', '8.1', '7.7', '8.0', '7.9', '8.0', '7.6', '7.7', '7.8', '7.9', '7.9', '7.7', '7.6', '8.5', '7.8', '7.9', '7.7', '8.5', '7.7', '7.7', '8.0', '7.7', '7.8', '7.9', '7.8', '8.1', '8.0', '7.7', '7.8', '8.0', '7.6', '8.1', '7.7', '8.3', '7.6', '8.3', '8.1', '8.6', '8.1', '7.8', '7.8', '8.2', '7.8', '7.8', '7.7', '8.0', '7.7', '8.0', '7.7', '7.7', '7.7', '8.0', '8.0', '8.3', '7.8', '7.7', '7.6', '7.7', '7.7', '8.0', '8.0', '7.8', '7.6', '7.8', '7.8', '8.2', '8.0', '7.6', '8.2', '8.1', '8.0', '7.8', '8.1', '7.7', '7.6', '7.7', '7.8', '7.7', '7.6', '8.4', '7.6', '8.1', '8.4', '8.0', '7.6', '7.6', '7.7', '7.6', '7.8', '7.7', '7.6', '8.1', '8.3', '7.9', '7.8', '7.8', '8.2', '7.8', '7.8', '8.2', '7.7', '7.9', '8.6', '8.4', '8.0', '8.0', '7.9', '8.0', '8.0', '7.7', '7.7', '7.8', '8.3', '8.1', '7.7', '8.0', '7.6', '8.0', '7.7', '7.9', '7.8', '7.6', '7.9', '7.7', '8.1', '7.6', '8.1', '7.8', '7.9', '8.0', '7.9', '7.7', '7.6', '8.2', '7.9', '7.9', '7.9', '8.4', '7.9', '8.0', '7.7', '7.6', '7.7', '7.9', '8.3', '7.7', '8.0', '7.8', '7.8', '7.6', '8.6', '7.8', '8.0', '8.1', '7.7', '7.6', '7.7', '8.3', '7.7', '7.8', '7.9', '7.7', '7.9', '8.2', '7.9', '8.3', '7.9', '7.8', '8.0', '8.1', '7.7', '7.8', '7.7', '7.7', '7.8', '8.1', '7.7', '7.7', '7.7', '8.2', '8.0', '8.0', '7.7', '7.9', '8.3', '8.0', '8.2', '7.8', '7.8', '7.7', '8.0', '7.7', '8.0', '8.0', '7.8', '8.1', '8.7', '8.2', '8.1', '7.7', '7.9', '8.0', '8.0', '8.0', '8.1', '7.8', '7.9', '7.8', '7.7', '8.1', '7.7', '8.3', '7.8', '7.7', '8.0', '7.7', '7.6', '7.8', '8.0', '7.7', '7.7', '7.8', '7.7', '8.4', '7.7', '7.7', '8.3', '7.8', '7.6', '7.9', '7.7', '7.8', '8.1', '7.7', '7.9', '7.9', '8.0', '7.9', '7.9', '8.2', '8.0', '7.8', '8.1', '7.8', '7.8', '8.1', '7.9', '8.3', '8.0', '7.8', '7.7', '8.1', '7.9', '7.8', '7.7', '8.0', '8.1', '7.8', '8.1', '7.7', '7.8', '7.8', '7.9', '8.1', '8.0', '7.7', '8.2', '7.7', '7.8', '8.0', '8.0', '8.3', '7.9', '7.6', '7.7', '7.7', '8.2', '7.7', '7.7', '7.9', '7.7', '7.7', '7.6', '7.6', '8.1', '7.6', '8.2', '8.1', '7.9', '7.9', '7.9', '8.2', '7.6', '8.0', '7.9', '7.7', '7.8', '7.7', '8.1', '7.9', '8.5', '7.8', '8.2', '7.7', '7.9', '8.0', '7.7', '8.1', '7.7', '8.2', '7.6', '8.5', '7.6', '8.0', '8.0', '7.9', '8.1', '8.4', '7.8', '7.9', '8.0', '8.3', '8.0', '7.7', '7.7', '8.3', '7.8', '7.7', '8.0', '7.8', '7.8', '7.9', '7.9', '7.8', '8.1', '7.8', '8.0', '8.1', '8.0', '7.8', '7.8', '7.9', '7.8', '8.3', '7.8', '8.1', '7.6', '7.9', '7.8', '8.0', '8.0', '7.8', '8.1', '8.0', '7.7', '8.1', '7.7', '7.6', '7.8', '8.4', '8.0', '8.1', '8.1', '7.8', '7.7', '8.2', '7.7', '8.0', '7.9', '8.0', '7.7', '8.2', '7.9', '7.8', '8.1', '7.7', '8.0', '7.9', '7.8', '7.7', '7.7', '7.6', '8.0', '7.9', '7.7', '7.7', '8.2', '8.0', '8.1', '7.8', '7.9', '8.1', '7.8', '8.1', '8.0', '7.7', '7.8', '7.7', '8.0', '7.7', '7.8', '8.0', '7.8', '8.1', '7.8', '8.2', '8.2', '7.9', '8.8', '8.2', '8.0', '8.0', '7.7', '7.9', '7.8', '7.9', '7.8', '7.9', '7.9', '7.9', '7.9', '7.8', '8.0', '7.8', '7.7', '7.6', '7.6', '7.7', '7.8', '8.2', '8.0', '7.7', '7.9', '7.7', '7.8', '7.9', '8.1', '8.1', '8.2', '7.7', '7.8', '8.7', '8.4', '7.7', '7.7', '7.9', '8.1', '8.3', '7.8', '8.2', '7.7', '8.1', '7.9', '7.8', '7.8', '7.7', '7.8', '8.1', '8.1', '7.8', '7.7', '7.8', '8.0', '7.7', '7.9', '8.2', '7.7', '8.4', '7.7', '7.9', '7.9', '7.7', '7.9', '7.8', '7.7', '8.2', '8.1', '8.0', '8.1', '7.8', '7.9', '8.1', '7.9', '8.1', '8.0', '8.0', '7.8', '7.9', '7.9', '8.0', '7.7', '7.7', '7.7', '8.3', '7.7', '7.9', '7.8', '7.7', '7.9', '7.9', '7.9', '8.0', '7.9', '8.0', '7.6', '8.0', '8.2', '8.1', '7.7', '7.8', '8.0', '7.7', '7.7', '7.8', '8.1', '8.1', '7.8', '7.8', '8.1', '8.2', '7.7', '7.8', '7.7', '8.1', '7.7', '8.1', '7.8', '8.0', '8.1', '7.7', '7.9', '8.1', '7.8', '7.8', '8.0', '8.0', '8.2', '8.0', '8.5', '7.8', '7.7', '7.7', '7.7', '8.1', '8.0', '8.1', '8.1', '7.7', '7.9', '8.1', '7.8', '8.0', '8.2', '7.8', '7.7', '8.1', '8.1', '7.7', '8.2', '7.9', '7.9', '8.1', '7.8', '8.1', '7.9', '8.1', '8.0', '8.1', '7.7', '8.0', '7.9', '8.0', '7.9', '7.9', '7.8', '8.0', '7.7', '7.9', '7.9', '8.1', '8.7', '8.1', '8.0', '7.7', '8.2', '7.8', '8.0', '8.0', '8.1', '7.7', '8.3', '8.0', '8.1', '8.0', '7.9', '8.1', '7.9', '8.1', '8.1', '8.0', '7.8', '7.9', '8.1', '8.0', '7.7', '7.8', '7.7', '8.0', '7.9', '8.1', '8.1', '8.0', '7.8', '8.2', '8.1', '8.2', '8.1', '8.1', '8.3', '7.9', '8.2', '7.9', '8.1', '8.0', '8.4', '7.9', '8.2', '8.2', '8.1', '8.1', '7.8', '7.9', '8.1', '8.1', '8.0', '8.1', '8.0', '8.4', '7.8', '8.1', '8.1', '8.0', '8.2']\n"
     ]
    }
   ],
   "source": [
    "# Extract IMDb ratings\n",
    "imdb_ratings = []\n",
    "for container in movie_div:\n",
    "    # Extract rating element\n",
    "    imdb_elem = container.find('span', class_='ipc-rating-star ipc-rating-star--base ipc-rating-star--imdb ratingGroup--imdb-rating')\n",
    "    if imdb_elem:\n",
    "        # Extract IMDb rating up to two decimal places from the rating string\n",
    "        imdb = imdb_elem.text.split('\\xa0')[0]\n",
    "        imdb_ratings.append(imdb)\n",
    "\n",
    "# Print the extracted data\n",
    "print(imdb_ratings)"
   ]
  },
  {
   "cell_type": "code",
   "execution_count": 66,
   "id": "c7f9e2d6-9157-4956-8075-fca60c95cf0d",
   "metadata": {},
   "outputs": [
    {
     "name": "stdout",
     "output_type": "stream",
     "text": [
      "['87', '89', '72', '89', '82', None, '86', '80', '94', '74', '84', '72', '78', '86', '74', '82', '81', '81', '100', '51', '78', '65', '67', '75', '84', '92', '96', '84', '95', '87', '74', '86', '75', '67', '64', '90', '71', '76', '59', '56', '89', '79', '86', '95', '65', '82', '71', '94', '67', '82', '71', '78', '94', '68', '63', '81', '84', '70', '73', '64', '88', '70', '94', '89', '62', '91', '87', '92', '53', '69', '66', '78', '96', '84', '71', '78', '81', '79', '85', '64', '60', '78', '84', '90', '82', '63', '85', '94', '89', '81', '75', '63', '73', '60', '68', '78', '92', '94', '82', '75', '58', '85', '69', '95', '90', '50', '83', '66', '52', '52', '85', '87', '86', '97', '75', '82', '83', '88', '76', '65', '79', '94', '100', '84', '55', '57', '87', '78', '63', '81', '91', '93', '69', '82', '84', '83', '61', '77', '77', '94', '68', '65', '85', '73', '96', '90', '60', '76', '91', '76', '66', '76', '79', '84', '91', '85', '81', '71', '71', '74', '88', '72', '65', '71', '66', None, '65', '86', '62', '68', '81', '49', '73', '79', '78', '72', '83', '81', '73', '55', '66', '70', '75', '80', '90', '88', '71', '92', '88', '68', '81', '76', '61', '90', '62', '71', '54', '75', '73', '82', '90', '65', '71', '90', '87', '84', '76', '72', '78', '78', '74', '74', '76', '78', '47', '79', '90', '65', '62', '69', '80', '92', '77', '74', '97', '64', '100', '88', '92', '79', '82', '90', '59', '71', '87', '94', '76', '57', '73', '68', '86', '96', '87', '71', '59', '66', '58', '73', '88', '75', '86', '83', '95', '80', '81', '70', '83', '83', '80', '84', '92', '83', '67', '76', '82', '95', '81', '51', '76', '96', '80', '67', '66', '76', '47', '52', '82', '74', '94', '65', '87', '97', '92', '74', '82', '88', '72', '71', '87', '80', '78', '81', '96', '58', '67', '98', '64', '65', '87', '69', '72', '68', '75', '65', '93', '81', '63', '75', '91', '79', '74', '88', '48', '86', '89', '77', '76', '86', '90', '72', '70', '46', '97', '75', '96', '30', '80', '72', '82', '67', '83', '85', '68', '87', '75', '89', '79', '93', '58', '89', '89', '100', '87', '47', '79', '44', '72', '68', '73', '76', '98', '55', '62', '81', '74', '74', '66', '98', '86', '61', '83', '94', '64', '77', '70', '79', '76', '74', '84', '81', '100', '55', '66', '86', '80', '61', '72', '57', '54', '55', '77', '57', '72', '88', '80', '77', '95', '80', '81', '84', '100', '61', '99', '87', '98', '95', '82', '72', '91', '81', '67', '66', '78', '64', '96', '67', '72', '69', '84', '79', '92', '75', '82', '83', '76', '80', '83', None, None, '68', '67', '74', '78', '67', '58', '86', '83', '97', '88', '85', '63', '72', '90', '79', '72', '73', '75', '90', None, '94', '64', '78', '90', '83', '76', '49', '45', '53', '86', None, '94', '76', '72', '98', '85', '84', '80', '87', '79', '85', '85', '72', '93', '88', '69', '61', '86', '85', '71', '88', '77', '69', '67', '79', '58', '74', '100', '74', '86', '84', '83', '85', '73', None, '76', '69', '86', '76', '75', '68', None, '94', '77', None, '90', '69', '89', '83', '76', '77', '82', '94', '68', '66', '66', '81', '65', None, '91', '85', '78', '86', '81', '83', '95', '62', '82', None, '66', '65', '74', '87', None, '80', '86', '86', '91', '76', '73', '94', '53', '82', '90', '73', '95', '90', '98', '78', '69', '73', '93', '60', '78', '97', '64', '69', '66', '85', '86', '77', '92', '63', '84', None, '65', '91', '82', '79', '93', '79', '67', '92', '94', '97', '78', '78', '88', '87', None, '84', '81', '93', '83', '87', '71', '93', None, '81', '71', '70', '76', '74', '96', None, '68', '71', '47', '70', '63', '83', '91', '63', '84', '93', '96', '79', None, None, '82', '86', '80', '75', '97', '98', '92', '95', '70', '73', '94', None, '97', '76', '97', '87', '77', '79', '72', '79', '94', '83', None, '59', None, '75', '73', '89', '92', '74', '95', '71', None, '86', '73', None, '77', '67', '85', '83', '86', '69', '28', None, '89', '72', '87', '86', '86', '92', '98', '70', '78', '89', None, '83', '68', '86', '100', '99', '80', '89', '81', '100', '88', '93', '77', '79', None, '69', '96', '72', None, '47', '91', '100', None, '76', '82', '95', None, '99', '96', '77', None, None, '71', '75', '89', '80', '88', '94', '83', None, '72', '82', None, '89', '90', '91', '62', '62', None, '90', '96', '74', '73', '64', '82', '90', None, '86', '75', None, '100', '74', '72', '83', '90', '86', '79', '91', '72', '78', '77', '79', '87', '72', None, '84', '93', '87', '93', '88', None, '85', '50', '78', None, '84', '77', '85', '95', '79', '61', '98', '84', '88', '84', '77', '100', '86', None, '92', None, None, '85', '96', '98', '91', '58', '61', '75', '90', None, None, None, None, None, '33', '88', '70', '89', '87', '69', '65', '88', '78', '84', '100', '94', '92', '75', None, '78', '76', '90', None, None, None, '73', None, '70', '91', '88', '84', '73', None, '92', '78', None, None, '68', '78', '86', None, None, '95', '85', '68', '94', '97', '96', None, '86', '90', None, None, '82', '80', '93', '86', '82', None, None, '76', None, '86', '99', None, '72', '54', '88', '75', None, None, '68', '98', '90', '92', '71', '80', '96', '74', None, '73', '86', '82', '90', '81', '80', '85', None, None, None, '76', '83', '97', None, '97', '73', '84', '88', '87', None, None, '84', '85', None, '97', '91', '75', '82', None, '89', '56', '64', '68', '86', '51', '85', '58', None, None, None, '74', '100', None, '66', '82', None, '67', '70', None, None, None, '85', None, '77', None, '59', '75', '95', None, '72', None, '97', None, None, '81', None, None, '87', '88', None, None, '93', None, '94', '92', None, None, None, '87', '97', None, None, '83', None, '65', None, '71', '84', None, None, '76', None, None, '73', None, None, None, '89', None, '85', None, None, None, '85', None, '80', '89', None, None, None, None, None, None, None, None, None, None, '71', '85', None, None, None, '84', None, None, '64', '81', '92', None, None, None, '90', None, None, None, None, None, None, None, None, None, None, None, None, None, None, None, None, None, None, None, None, None, None, None, None, None]\n"
     ]
    }
   ],
   "source": [
    "# Extract Metascores\n",
    "metascores = []\n",
    "for container in movie_div:\n",
    "    # Extract Metascore element\n",
    "    metascore_elem = container.find('span', class_='sc-b0901df4-0 bcQdDJ metacritic-score-box')\n",
    "    if metascore_elem:\n",
    "        # Append stripped Metascore to the list\n",
    "        metascores.append(metascore_elem.text.strip())\n",
    "    else:\n",
    "        # If Metascore is not found, append None\n",
    "        metascores.append(None)\n",
    "\n",
    "# Print the extracted data\n",
    "print(metascores)"
   ]
  },
  {
   "cell_type": "code",
   "execution_count": 67,
   "id": "2dadc176-71be-4975-91ee-8ba8fea979f1",
   "metadata": {},
   "outputs": [
    {
     "name": "stdout",
     "output_type": "stream",
     "text": [
      "[None, None, None, None, None, None, None, None, None, None, None, None, None, None, None, None, None, None, None, None, None, None, None, None, None, None, None, None, None, None, None, None, None, None, None, None, None, None, None, None, None, None, None, None, None, None, None, None, None, None, None, None, None, None, None, None, None, None, None, None, None, None, None, None, None, None, None, None, None, None, None, None, None, None, None, None, None, None, None, None, None, None, None, None, None, None, None, None, None, None, None, None, None, None, None, None, None, None, None, None, None, None, None, None, None, None, None, None, None, None, None, None, None, None, None, None, None, None, None, None, None, None, None, None, None, None, None, None, None, None, None, None, None, None, None, None, None, None, None, None, None, None, None, None, None, None, None, None, None, None, None, None, None, None, None, None, None, None, None, None, None, None, None, None, None, None, None, None, None, None, None, None, None, None, None, None, None, None, None, None, None, None, None, None, None, None, None, None, None, None, None, None, None, None, None, None, None, None, None, None, None, None, None, None, None, None, None, None, None, None, None, None, None, None, None, None, None, None, None, None, None, None, None, None, None, None, None, None, None, None, None, None, None, None, None, None, None, None, None, None, None, None, None, None, None, None, None, None, None, None, None, None, None, None, None, None, None, None, None, None, None, None, None, None, None, None, None, None, None, None, None, None, None, None, None, None, None, None, None, None, None, None, None, None, None, None, None, None, None, None, None, None, None, None, None, None, None, None, None, None, None, None, None, None, None, None, None, None, None, None, None, None, None, None, None, None, None, None, None, None, None, None, None, None, None, None, None, None, None, None, None, None, None, None, None, None, None, None, None, None, None, None, None, None, None, None, None, None, None, None, None, None, None, None, None, None, None, None, None, None, None, None, None, None, None, None, None, None, None, None, None, None, None, None, None, None, None, None, None, None, None, None, None, None, None, None, None, None, None, None, None, None, None, None, None, None, None, None, None, None, None, None, None, None, None, None, None, None, None, None, None, None, None, None, None, None, None, None, None, None, None, None, None, None, None, None, None, None, None, None, None, None, None, None, None, None, None, None, None, None, None, None, None, None, None, None, None, None, None, None, None, None, None, None, None, None, None, None, None, None, None, None, None, None, None, None, None, None, None, None, None, None, None, None, None, None, None, None, None, None, None, None, None, None, None, None, None, None, None, None, None, None, None, None, None, None, None, None, None, None, None, None, None, None, None, None, None, None, None, None, None, None, None, None, None, None, None, None, None, None, None, None, None, None, None, None, None, None, None, None, None, None, None, None, None, None, None, None, None, None, None, None, None, None, None, None, None, None, None, None, None, None, None, None, None, None, None, None, None, None, None, None, None, None, None, None, None, None, None, None, None, None, None, None, None, None, None, None, None, None, None, None, None, None, None, None, None, None, None, None, None, None, None, None, None, None, None, None, None, None, None, None, None, None, None, None, None, None, None, None, None, None, None, None, None, None, None, None, None, None, None, None, None, None, None, None, None, None, None, None, None, None, None, None, None, None, None, None, None, None, None, None, None, None, None, None, None, None, None, None, None, None, None, None, None, None, None, None, None, None, None, None, None, None, None, None, None, None, None, None, None, None, None, None, None, None, None, None, None, None, None, None, None, None, None, None, None, None, None, None, None, None, None, None, None, None, None, None, None, None, None, None, None, None, None, None, None, None, None, None, None, None, None, None, None, None, None, None, None, None, None, None, None, None, None, None, None, None, None, None, None, None, None, None, None, None, None, None, None, None, None, None, None, None, None, None, None, None, None, None, None, None, None, None, None, None, None, None, None, None, None, None, None, None, None, None, None, None, None, None, None, None, None, None, None, None, None, None, None, None, None, None, None, None, None, None, None, None, None, None, None, None, None, None, None, None, None, None, None, None, None, None, None, None, None, None, None, None, None, None, None, None, None, None, None, None, None, None, None, None, None, None, None, None, None, None, None, None, None, None, None, None, None, None, None, None, None, None, None, None, None, None, None, None, None, None, None, None, None, None, None, None, None, None, None, None, None, None, None, None, None, None, None, None, None, None, None, None, None, None, None, None, None, None, None, None, None, None, None, None, None, None, None, None, None, None, None, None, None, None, None, None, None, None, None, None, None, None, None, None, None, None, None, None, None, None, None, None, None, None, None, None, None, None, None, None, None, None, None, None, None, None, None, None, None, None, None, None, None, None, None, None, None, None, None, None, None, None, None, None, None, None, None, None, None, None, None, None, None, None, None, None, None, None, None, None, None, None, None, None, None, None, None, None, None, None, None, None, None, None, None, None, None, None, None, None, None, None, None, None, None, None, None, None, None, None, None, None, None, None, None, None, None, None, None, None, None, None, None, None]\n"
     ]
    }
   ],
   "source": [
    "# Extract Votes\n",
    "votes = []\n",
    "for container in movie_div:\n",
    "    # Extract vote element\n",
    "    vote_elem = container.find('div', class_='sc-b4e41383-0 cyGaqI')\n",
    "    if vote_elem:\n",
    "        # Remove 'Votes', commas, and strip whitespace, then append to the list\n",
    "        vote_number = vote_elem.text.replace('Votes', '').replace(',', '').strip()\n",
    "        if vote_number:\n",
    "            votes.append(vote_number)\n",
    "        else:\n",
    "            # If vote number is not found, append None\n",
    "            votes.append(None)\n",
    "    else:\n",
    "        # If vote element is not found, append None\n",
    "        votes.append(None)\n",
    "\n",
    "# Print the extracted data\n",
    "print(votes)"
   ]
  },
  {
   "cell_type": "code",
   "execution_count": 68,
   "id": "5e147eee-46cd-4c2a-962b-c30a68dd7fb8",
   "metadata": {},
   "outputs": [
    {
     "name": "stdout",
     "output_type": "stream",
     "text": [
      "CSV file has been saved.\n"
     ]
    }
   ],
   "source": [
    "import pandas as pd\n",
    "\n",
    "# Convert extracted data to a DataFrame\n",
    "data = {\n",
    "    'Title': titles,\n",
    "    'Year': years,\n",
    "    'IMDb Rating': imdb_ratings,\n",
    "    'Metascore': metascores,\n",
    "    'Votes': votes\n",
    "}\n",
    "\n",
    "df = pd.DataFrame(data)\n",
    "\n",
    "# Save DataFrame to a CSV file\n",
    "df.to_csv('movie_data.csv', index=False)\n",
    "print(\"CSV file has been saved.\")"
   ]
  },
  {
   "cell_type": "code",
   "execution_count": 69,
   "id": "96ff71ac-592a-4764-87d5-4f75d113449e",
   "metadata": {},
   "outputs": [],
   "source": [
    "# Close browser\n",
    "driver.quit()"
   ]
  }
 ],
 "metadata": {
  "kernelspec": {
   "display_name": "Python 3 (ipykernel)",
   "language": "python",
   "name": "python3"
  },
  "language_info": {
   "codemirror_mode": {
    "name": "ipython",
    "version": 3
   },
   "file_extension": ".py",
   "mimetype": "text/x-python",
   "name": "python",
   "nbconvert_exporter": "python",
   "pygments_lexer": "ipython3",
   "version": "3.11.5"
  }
 },
 "nbformat": 4,
 "nbformat_minor": 5
}
