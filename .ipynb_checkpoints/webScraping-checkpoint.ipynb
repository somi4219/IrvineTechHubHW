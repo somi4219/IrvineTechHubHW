{
 "cells": [
  {
   "cell_type": "code",
   "execution_count": 38,
   "id": "0f94b84e-ac64-4189-b9e7-f2b74479307f",
   "metadata": {},
   "outputs": [],
   "source": [
    "from selenium import webdriver\n",
    "from selenium.webdriver.common.by import By\n",
    "from selenium.webdriver.common.keys import Keys\n",
    "from selenium.webdriver.chrome.service import Service as ChromeService\n",
    "from selenium.webdriver.common.action_chains import ActionChains\n",
    "from bs4 import BeautifulSoup\n",
    "import time\n",
    "import numpy as np\n",
    "from fake_useragent import UserAgent\n",
    "\n",
    "# Create a user agent and generate header information\n",
    "ua = UserAgent()\n",
    "headers = {'User-Agent': ua.random}\n",
    "\n",
    "# Target website\n",
    "url = 'https://www.imdb.com/search/title/?groups=top_1000&ref_=adv_prv'\n",
    "\n",
    "# ChromeDriver\n",
    "chrome_path = \"C:/Windows/chromedriver.exe\"\n",
    "\n",
    "# Selenium ChromeDriver setting\n",
    "chrome_service = ChromeService(chrome_path)\n",
    "driver = webdriver.Chrome(service=chrome_service)\n",
    "\n",
    "# Open browser\n",
    "driver.get(url)"
   ]
  },
  {
   "cell_type": "code",
   "execution_count": 39,
   "id": "7a87d27a-183e-4224-a8e6-455177ab0615",
   "metadata": {},
   "outputs": [
    {
     "name": "stdout",
     "output_type": "stream",
     "text": [
      "The 'See More' button is no longer available.\n"
     ]
    },
    {
     "name": "stderr",
     "output_type": "stream",
     "text": [
      "IOPub data rate exceeded.\n",
      "The Jupyter server will temporarily stop sending output\n",
      "to the client in order to avoid crashing it.\n",
      "To change this limit, set the config variable\n",
      "`--ServerApp.iopub_data_rate_limit`.\n",
      "\n",
      "Current values:\n",
      "ServerApp.iopub_data_rate_limit=1000000.0 (bytes/sec)\n",
      "ServerApp.rate_limit_window=3.0 (secs)\n",
      "\n"
     ]
    }
   ],
   "source": [
    "from selenium.common.exceptions import NoSuchElementException\n",
    "\n",
    "# Repeat until the \"See More\" button is no longer available\n",
    "while True:\n",
    "    try:\n",
    "        # Find the \"See More\" button using XPath\n",
    "        more_button = driver.find_element(By.XPATH, \"//button[@class='ipc-btn ipc-btn--single-padding ipc-btn--center-align-content ipc-btn--default-height ipc-btn--core-base ipc-btn--theme-base ipc-btn--on-accent2 ipc-text-button ipc-see-more__button']\")\n",
    "        \n",
    "        # Click the \"See More\" button using JavaScript\n",
    "        driver.execute_script(\"arguments[0].click();\", more_button)\n",
    "        \n",
    "        # Wait for loading (adjust sleep time based on the page)\n",
    "        time.sleep(2)\n",
    "    except NoSuchElementException:\n",
    "        print(\"The 'See More' button is no longer available.\")\n",
    "        break\n",
    "\n",
    "# Get the page source using Selenium\n",
    "page_source = driver.page_source\n",
    "\n",
    "# Parse the page source using BeautifulSoup\n",
    "soup = BeautifulSoup(page_source, \"html.parser\")\n",
    "\n",
    "# Print the prettified HTML content for a structured tree-like view\n",
    "print(soup.prettify())"
   ]
  },
  {
   "cell_type": "code",
   "execution_count": 40,
   "id": "22b91d97-d6ca-48a2-a7e4-a95be5fc7453",
   "metadata": {},
   "outputs": [],
   "source": [
    "# Find all <div> tags in the HTML document with a specific class name and store them in the movie_div variable\n",
    "movie_div = soup.find_all('div', class_='ipc-metadata-list-summary-item__tc')"
   ]
  },
  {
   "cell_type": "code",
   "execution_count": 42,
   "id": "0714a811-a24c-481e-a7ad-e7fd91610d66",
   "metadata": {},
   "outputs": [
    {
     "ename": "NoSuchElementException",
     "evalue": "Message: no such element: Unable to locate element: {\"method\":\"css selector\",\"selector\":\".sc-67eae509-3 efZxiR\"}\n  (Session info: chrome=120.0.6099.71); For documentation on this error, please visit: https://www.selenium.dev/documentation/webdriver/troubleshooting/errors#no-such-element-exception\nStacktrace:\n\tGetHandleVerifier [0x00007FF7637F2142+3514994]\n\t(No symbol) [0x00007FF763410CE2]\n\t(No symbol) [0x00007FF7632B76AA]\n\t(No symbol) [0x00007FF763301860]\n\t(No symbol) [0x00007FF76330197C]\n\t(No symbol) [0x00007FF763344EE7]\n\t(No symbol) [0x00007FF76332602F]\n\t(No symbol) [0x00007FF7633428F6]\n\t(No symbol) [0x00007FF763325D93]\n\t(No symbol) [0x00007FF7632F4BDC]\n\t(No symbol) [0x00007FF7632F5C64]\n\tGetHandleVerifier [0x00007FF76381E16B+3695259]\n\tGetHandleVerifier [0x00007FF763876737+4057191]\n\tGetHandleVerifier [0x00007FF76386E4E3+4023827]\n\tGetHandleVerifier [0x00007FF7635404F9+689705]\n\t(No symbol) [0x00007FF76341C048]\n\t(No symbol) [0x00007FF763418044]\n\t(No symbol) [0x00007FF7634181C9]\n\t(No symbol) [0x00007FF7634088C4]\n\tBaseThreadInitThunk [0x00007FFBE075257D+29]\n\tRtlUserThreadStart [0x00007FFBE152AA58+40]\n",
     "output_type": "error",
     "traceback": [
      "\u001b[1;31m---------------------------------------------------------------------------\u001b[0m",
      "\u001b[1;31mNoSuchElementException\u001b[0m                    Traceback (most recent call last)",
      "Cell \u001b[1;32mIn[42], line 27\u001b[0m\n\u001b[0;32m     24\u001b[0m         saved_lists\u001b[38;5;241m.\u001b[39mextend([item\u001b[38;5;241m.\u001b[39mtext \u001b[38;5;28;01mfor\u001b[39;00m item \u001b[38;5;129;01min\u001b[39;00m items])\n\u001b[0;32m     26\u001b[0m     \u001b[38;5;66;03m# 가장자리를 클릭하여 창 닫기\u001b[39;00m\n\u001b[1;32m---> 27\u001b[0m     body_element \u001b[38;5;241m=\u001b[39m \u001b[43mdriver\u001b[49m\u001b[38;5;241;43m.\u001b[39;49m\u001b[43mfind_element\u001b[49m\u001b[43m(\u001b[49m\u001b[43mBy\u001b[49m\u001b[38;5;241;43m.\u001b[39;49m\u001b[43mCLASS_NAME\u001b[49m\u001b[43m,\u001b[49m\u001b[43m \u001b[49m\u001b[38;5;124;43m'\u001b[39;49m\u001b[38;5;124;43msc-67eae509-3 efZxiR\u001b[39;49m\u001b[38;5;124;43m'\u001b[39;49m\u001b[43m)\u001b[49m\n\u001b[0;32m     28\u001b[0m     ActionChains(driver)\u001b[38;5;241m.\u001b[39mmove_to_element_with_offset(body_element, \u001b[38;5;241m0\u001b[39m, \u001b[38;5;241m0\u001b[39m)\u001b[38;5;241m.\u001b[39mclick()\u001b[38;5;241m.\u001b[39mperform()\n\u001b[0;32m     30\u001b[0m \u001b[38;5;66;03m# 저장된 리스트 출력\u001b[39;00m\n",
      "File \u001b[1;32m~\\AppData\\Local\\Programs\\Python\\Python311\\Lib\\site-packages\\selenium\\webdriver\\remote\\webdriver.py:742\u001b[0m, in \u001b[0;36mWebDriver.find_element\u001b[1;34m(self, by, value)\u001b[0m\n\u001b[0;32m    739\u001b[0m     by \u001b[38;5;241m=\u001b[39m By\u001b[38;5;241m.\u001b[39mCSS_SELECTOR\n\u001b[0;32m    740\u001b[0m     value \u001b[38;5;241m=\u001b[39m \u001b[38;5;124mf\u001b[39m\u001b[38;5;124m'\u001b[39m\u001b[38;5;124m[name=\u001b[39m\u001b[38;5;124m\"\u001b[39m\u001b[38;5;132;01m{\u001b[39;00mvalue\u001b[38;5;132;01m}\u001b[39;00m\u001b[38;5;124m\"\u001b[39m\u001b[38;5;124m]\u001b[39m\u001b[38;5;124m'\u001b[39m\n\u001b[1;32m--> 742\u001b[0m \u001b[38;5;28;01mreturn\u001b[39;00m \u001b[38;5;28;43mself\u001b[39;49m\u001b[38;5;241;43m.\u001b[39;49m\u001b[43mexecute\u001b[49m\u001b[43m(\u001b[49m\u001b[43mCommand\u001b[49m\u001b[38;5;241;43m.\u001b[39;49m\u001b[43mFIND_ELEMENT\u001b[49m\u001b[43m,\u001b[49m\u001b[43m \u001b[49m\u001b[43m{\u001b[49m\u001b[38;5;124;43m\"\u001b[39;49m\u001b[38;5;124;43musing\u001b[39;49m\u001b[38;5;124;43m\"\u001b[39;49m\u001b[43m:\u001b[49m\u001b[43m \u001b[49m\u001b[43mby\u001b[49m\u001b[43m,\u001b[49m\u001b[43m \u001b[49m\u001b[38;5;124;43m\"\u001b[39;49m\u001b[38;5;124;43mvalue\u001b[39;49m\u001b[38;5;124;43m\"\u001b[39;49m\u001b[43m:\u001b[49m\u001b[43m \u001b[49m\u001b[43mvalue\u001b[49m\u001b[43m}\u001b[49m\u001b[43m)\u001b[49m[\u001b[38;5;124m\"\u001b[39m\u001b[38;5;124mvalue\u001b[39m\u001b[38;5;124m\"\u001b[39m]\n",
      "File \u001b[1;32m~\\AppData\\Local\\Programs\\Python\\Python311\\Lib\\site-packages\\selenium\\webdriver\\remote\\webdriver.py:348\u001b[0m, in \u001b[0;36mWebDriver.execute\u001b[1;34m(self, driver_command, params)\u001b[0m\n\u001b[0;32m    346\u001b[0m response \u001b[38;5;241m=\u001b[39m \u001b[38;5;28mself\u001b[39m\u001b[38;5;241m.\u001b[39mcommand_executor\u001b[38;5;241m.\u001b[39mexecute(driver_command, params)\n\u001b[0;32m    347\u001b[0m \u001b[38;5;28;01mif\u001b[39;00m response:\n\u001b[1;32m--> 348\u001b[0m     \u001b[38;5;28;43mself\u001b[39;49m\u001b[38;5;241;43m.\u001b[39;49m\u001b[43merror_handler\u001b[49m\u001b[38;5;241;43m.\u001b[39;49m\u001b[43mcheck_response\u001b[49m\u001b[43m(\u001b[49m\u001b[43mresponse\u001b[49m\u001b[43m)\u001b[49m\n\u001b[0;32m    349\u001b[0m     response[\u001b[38;5;124m\"\u001b[39m\u001b[38;5;124mvalue\u001b[39m\u001b[38;5;124m\"\u001b[39m] \u001b[38;5;241m=\u001b[39m \u001b[38;5;28mself\u001b[39m\u001b[38;5;241m.\u001b[39m_unwrap_value(response\u001b[38;5;241m.\u001b[39mget(\u001b[38;5;124m\"\u001b[39m\u001b[38;5;124mvalue\u001b[39m\u001b[38;5;124m\"\u001b[39m, \u001b[38;5;28;01mNone\u001b[39;00m))\n\u001b[0;32m    350\u001b[0m     \u001b[38;5;28;01mreturn\u001b[39;00m response\n",
      "File \u001b[1;32m~\\AppData\\Local\\Programs\\Python\\Python311\\Lib\\site-packages\\selenium\\webdriver\\remote\\errorhandler.py:229\u001b[0m, in \u001b[0;36mErrorHandler.check_response\u001b[1;34m(self, response)\u001b[0m\n\u001b[0;32m    227\u001b[0m         alert_text \u001b[38;5;241m=\u001b[39m value[\u001b[38;5;124m\"\u001b[39m\u001b[38;5;124malert\u001b[39m\u001b[38;5;124m\"\u001b[39m]\u001b[38;5;241m.\u001b[39mget(\u001b[38;5;124m\"\u001b[39m\u001b[38;5;124mtext\u001b[39m\u001b[38;5;124m\"\u001b[39m)\n\u001b[0;32m    228\u001b[0m     \u001b[38;5;28;01mraise\u001b[39;00m exception_class(message, screen, stacktrace, alert_text)  \u001b[38;5;66;03m# type: ignore[call-arg]  # mypy is not smart enough here\u001b[39;00m\n\u001b[1;32m--> 229\u001b[0m \u001b[38;5;28;01mraise\u001b[39;00m exception_class(message, screen, stacktrace)\n",
      "\u001b[1;31mNoSuchElementException\u001b[0m: Message: no such element: Unable to locate element: {\"method\":\"css selector\",\"selector\":\".sc-67eae509-3 efZxiR\"}\n  (Session info: chrome=120.0.6099.71); For documentation on this error, please visit: https://www.selenium.dev/documentation/webdriver/troubleshooting/errors#no-such-element-exception\nStacktrace:\n\tGetHandleVerifier [0x00007FF7637F2142+3514994]\n\t(No symbol) [0x00007FF763410CE2]\n\t(No symbol) [0x00007FF7632B76AA]\n\t(No symbol) [0x00007FF763301860]\n\t(No symbol) [0x00007FF76330197C]\n\t(No symbol) [0x00007FF763344EE7]\n\t(No symbol) [0x00007FF76332602F]\n\t(No symbol) [0x00007FF7633428F6]\n\t(No symbol) [0x00007FF763325D93]\n\t(No symbol) [0x00007FF7632F4BDC]\n\t(No symbol) [0x00007FF7632F5C64]\n\tGetHandleVerifier [0x00007FF76381E16B+3695259]\n\tGetHandleVerifier [0x00007FF763876737+4057191]\n\tGetHandleVerifier [0x00007FF76386E4E3+4023827]\n\tGetHandleVerifier [0x00007FF7635404F9+689705]\n\t(No symbol) [0x00007FF76341C048]\n\t(No symbol) [0x00007FF763418044]\n\t(No symbol) [0x00007FF7634181C9]\n\t(No symbol) [0x00007FF7634088C4]\n\tBaseThreadInitThunk [0x00007FFBE075257D+29]\n\tRtlUserThreadStart [0x00007FFBE152AA58+40]\n"
     ]
    }
   ],
   "source": [
    "from selenium.webdriver.support.ui import WebDriverWait\n",
    "from selenium.webdriver.support import expected_conditions as EC\n",
    "driver.execute_script(\"window.scrollTo(0, 0);\")\n",
    "\n",
    "saved_lists = []\n",
    "\n",
    "# 'sc-73c670dc-5 fynZER dli-post-element' 클래스명을 가진 모든 div 요소 찾기\n",
    "info_divs = driver.find_elements(By.CSS_SELECTOR, '.sc-73c670dc-5.fynZER.dli-post-element')\n",
    "\n",
    "for info_div in info_divs:\n",
    "    # 'ipc-icon-button dli-info-icon ipc-icon-button--base ipc-icon-button--onAccent2' 클래스명을 가진 버튼 찾기\n",
    "    more_button = info_div.find_element(By.CLASS_NAME, 'ipc-icon-button.dli-info-icon.ipc-icon-button--base.ipc-icon-button--onAccent2')\n",
    "    \n",
    "    # 버튼 클릭\n",
    "    driver.execute_script(\"arguments[0].click();\", more_button)\n",
    "    \n",
    "    # 데이터를 저장하기 위해 기다리기 (페이지에 따라 sleep 시간을 조정)\n",
    "    time.sleep(2)\n",
    "    \n",
    "    # 'ipc-inline-list--no-wrap' 클래스명을 가진 리스트 찾기\n",
    "    lists_to_save = driver.find_elements(By.CLASS_NAME, 'ipc-inline-list.ipc-inline-list--show-dividers.ipc-inline-list--no-wrap.ipc-inline-list--inline.baseAlt')\n",
    "    for ul in lists_to_save:\n",
    "        items = ul.find_elements(By.CLASS_NAME, 'ipc-inline-list__item')\n",
    "        saved_lists.extend([item.text for item in items])\n",
    "\n",
    "    # 가장자리를 클릭하여 창 닫기\n",
    "    body_element = driver.find_element(By.CLASS_NAME, 'ipc-promptable-base__panel')\n",
    "    ActionChains(driver).move_to_element_with_offset(body_element, 0, 0).click().perform()\n",
    "\n",
    "# 저장된 리스트 출력\n",
    "print(saved_lists)\n"
   ]
  },
  {
   "cell_type": "code",
   "execution_count": null,
   "id": "86a7209a-27a0-4658-9d64-1e7ad97404ff",
   "metadata": {},
   "outputs": [],
   "source": [
    "# Extract titles (excluding the preceding numbers) and append them to the titles list\n",
    "titles = []\n",
    "for container in movie_div:\n",
    "    name = container.h3.text.split('. ')[1]\n",
    "    titles.append(name)\n",
    "\n",
    "# Print the extracted data\n",
    "print(titles)"
   ]
  },
  {
   "cell_type": "code",
   "execution_count": null,
   "id": "8c5c9e4b-7545-4367-ab22-63bbdf711125",
   "metadata": {},
   "outputs": [],
   "source": [
    "# Extract release year\n",
    "years = []\n",
    "for container in movie_div:\n",
    "    year = container.find('span', class_='sc-1e00898e-8 hsHAHC dli-title-metadata-item').text\n",
    "    years.append(year)\n",
    "    \n",
    "# Print the extracted data\n",
    "print(years)"
   ]
  },
  {
   "cell_type": "code",
   "execution_count": null,
   "id": "7588e22c-9cd4-4266-bd2a-2e68877e2e6f",
   "metadata": {},
   "outputs": [],
   "source": [
    "# Extract IMDb ratings\n",
    "imdb_ratings = []\n",
    "for container in movie_div:\n",
    "    # Extract rating element\n",
    "    imdb_elem = container.find('span', class_='ipc-rating-star ipc-rating-star--base ipc-rating-star--imdb ratingGroup--imdb-rating')\n",
    "    if imdb_elem:\n",
    "        # Extract IMDb rating up to two decimal places from the rating string\n",
    "        imdb = imdb_elem.text.split('\\xa0')[0]\n",
    "        imdb_ratings.append(imdb)\n",
    "\n",
    "# Print the extracted data\n",
    "print(imdb_ratings)"
   ]
  },
  {
   "cell_type": "code",
   "execution_count": null,
   "id": "c7f9e2d6-9157-4956-8075-fca60c95cf0d",
   "metadata": {},
   "outputs": [],
   "source": [
    "# Extract Metascores\n",
    "metascores = []\n",
    "for container in movie_div:\n",
    "    # Extract Metascore element\n",
    "    metascore_elem = container.find('span', class_='sc-b0901df4-0 bcQdDJ metacritic-score-box')\n",
    "    if metascore_elem:\n",
    "        # Append stripped Metascore to the list\n",
    "        metascores.append(metascore_elem.text.strip())\n",
    "    else:\n",
    "        # If Metascore is not found, append None\n",
    "        metascores.append(None)\n",
    "\n",
    "# Print the extracted data\n",
    "print(metascores)"
   ]
  },
  {
   "cell_type": "code",
   "execution_count": null,
   "id": "2dadc176-71be-4975-91ee-8ba8fea979f1",
   "metadata": {},
   "outputs": [],
   "source": [
    "# Extract Votes\n",
    "votes = []\n",
    "for container in movie_div:\n",
    "    # Extract vote element\n",
    "    vote_elem = container.find('div', class_='sc-b4e41383-0 cyGaqI')\n",
    "    if vote_elem:\n",
    "        # Remove 'Votes', commas, and strip whitespace, then append to the list\n",
    "        vote_number = vote_elem.text.replace('Votes', '').replace(',', '').strip()\n",
    "        if vote_number:\n",
    "            votes.append(vote_number)\n",
    "        else:\n",
    "            # If vote number is not found, append None\n",
    "            votes.append(None)\n",
    "    else:\n",
    "        # If vote element is not found, append None\n",
    "        votes.append(None)\n",
    "\n",
    "# Print the extracted data\n",
    "print(votes)"
   ]
  },
  {
   "cell_type": "code",
   "execution_count": null,
   "id": "5e147eee-46cd-4c2a-962b-c30a68dd7fb8",
   "metadata": {},
   "outputs": [],
   "source": [
    "import pandas as pd\n",
    "\n",
    "# Convert extracted data to a DataFrame\n",
    "data = {\n",
    "    'Title': titles,\n",
    "    'Year': years,\n",
    "    'IMDb Rating': imdb_ratings,\n",
    "    'Metascore': metascores,\n",
    "    'Votes': votes\n",
    "}\n",
    "\n",
    "df = pd.DataFrame(data)\n",
    "\n",
    "# Save DataFrame to a CSV file\n",
    "df.to_csv('movie_data.csv', index=False)\n",
    "print(\"CSV file has been saved.\")\n",
    "\n",
    "# Save DataFrame to an Excel file\n",
    "excel_writer = pd.ExcelWriter('movie_data.xlsx', engine='xlsxwriter')\n",
    "df.to_excel(excel_writer, sheet_name='Sheet1', index=False)\n",
    "excel_writer.close()\n",
    "print(\"Excel file has been saved.\")"
   ]
  },
  {
   "cell_type": "code",
   "execution_count": null,
   "id": "96ff71ac-592a-4764-87d5-4f75d113449e",
   "metadata": {},
   "outputs": [],
   "source": [
    "# Close browser\n",
    "driver.quit()"
   ]
  }
 ],
 "metadata": {
  "kernelspec": {
   "display_name": "Python 3 (ipykernel)",
   "language": "python",
   "name": "python3"
  },
  "language_info": {
   "codemirror_mode": {
    "name": "ipython",
    "version": 3
   },
   "file_extension": ".py",
   "mimetype": "text/x-python",
   "name": "python",
   "nbconvert_exporter": "python",
   "pygments_lexer": "ipython3",
   "version": "3.11.5"
  }
 },
 "nbformat": 4,
 "nbformat_minor": 5
}
